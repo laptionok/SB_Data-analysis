{
  "nbformat": 4,
  "nbformat_minor": 0,
  "metadata": {
    "kernelspec": {
      "display_name": "Python 3",
      "language": "python",
      "name": "python3"
    },
    "language_info": {
      "codemirror_mode": {
        "name": "ipython",
        "version": 3
      },
      "file_extension": ".py",
      "mimetype": "text/x-python",
      "name": "python",
      "nbconvert_exporter": "python",
      "pygments_lexer": "ipython3",
      "version": "3.7.4"
    },
    "colab": {
      "provenance": [],
      "include_colab_link": true
    }
  },
  "cells": [
    {
      "cell_type": "markdown",
      "metadata": {
        "id": "view-in-github",
        "colab_type": "text"
      },
      "source": [
        "<a href=\"https://colab.research.google.com/github/laptionok/SB_Data-analysis/blob/main/3.3_%D0%A7%D1%82%D0%B5%D0%BD%D0%B8%D0%B5%20%D0%B8%D0%B7%20%D0%B1%D0%B0%D0%B7%20%D0%B4%D0%B0%D0%BD%D0%BD%D1%8B%D1%85%20%D1%81%20%D0%BF%D0%BE%D0%BC%D0%BE%D1%89%D1%8C%D1%8E%20pandas%20%D0%B8%20sqlalchemy_Data%20R%26W_%D0%9F%D1%80%D0%B0%D0%BA%D1%82%D0%B8%D0%BA%D0%B0.ipynb\" target=\"_parent\"><img src=\"https://colab.research.google.com/assets/colab-badge.svg\" alt=\"Open In Colab\"/></a>"
      ]
    },
    {
      "cell_type": "markdown",
      "metadata": {
        "id": "qV07DIWQ_Y4y"
      },
      "source": [
        "# Чтение и запись данных\n"
      ]
    },
    {
      "cell_type": "code",
      "metadata": {
        "id": "c14xe20t_Y41"
      },
      "source": [
        "import sqlalchemy\n",
        "import psycopg2\n",
        "import pandas as pd"
      ],
      "execution_count": null,
      "outputs": []
    },
    {
      "cell_type": "markdown",
      "metadata": {
        "id": "aRCcWdnV_Y5E"
      },
      "source": [
        "## Урок 3. Чтение из баз данных с помощью pandas и sqlalchemy\n",
        "\n",
        "### Практика\n",
        "\n",
        "#### Задание 1\n",
        "\n",
        "Подключитесь к базе данных, загрузите содержимое таблицы `course_purchases` в DataFrame и выведите первые 10 строк на экран."
      ]
    },
    {
      "cell_type": "code",
      "metadata": {
        "id": "AN0QBySk_Y5I"
      },
      "source": [],
      "execution_count": null,
      "outputs": []
    },
    {
      "cell_type": "markdown",
      "metadata": {
        "id": "0htcnwRb_Y5V"
      },
      "source": [
        "#### Задание 2\n",
        "\n",
        "Используя DataFrame из предыдущего задания, определите для каждого курса количество пользователей, купивших его. Подсказка: используйте метод groupby."
      ]
    },
    {
      "cell_type": "code",
      "metadata": {
        "id": "paPpxP0L_Y5Y"
      },
      "source": [],
      "execution_count": null,
      "outputs": []
    },
    {
      "cell_type": "markdown",
      "metadata": {
        "id": "KMzH2sXZ_Y5i"
      },
      "source": [
        "#### Задание 3.\n",
        "\n",
        "Используя SQL-запрос с группировкой (GROUP BY), определите для каждого курса количество пользователей, купивших его. Результат запроса загрузите в DataFrame и выведите первые 10 строк на экран."
      ]
    },
    {
      "cell_type": "code",
      "metadata": {
        "id": "Z2lJnyQ5_Y5k"
      },
      "source": [],
      "execution_count": null,
      "outputs": []
    }
  ]
}