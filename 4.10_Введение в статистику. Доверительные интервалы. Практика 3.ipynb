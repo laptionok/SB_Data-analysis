{
  "nbformat": 4,
  "nbformat_minor": 0,
  "metadata": {
    "kernelspec": {
      "display_name": "Python 3",
      "language": "python",
      "name": "python3"
    },
    "language_info": {
      "codemirror_mode": {
        "name": "ipython",
        "version": 3
      },
      "file_extension": ".py",
      "mimetype": "text/x-python",
      "name": "python",
      "nbconvert_exporter": "python",
      "pygments_lexer": "ipython3",
      "version": "3.8.8"
    },
    "colab": {
      "provenance": [],
      "include_colab_link": true
    }
  },
  "cells": [
    {
      "cell_type": "markdown",
      "metadata": {
        "id": "view-in-github",
        "colab_type": "text"
      },
      "source": [
        "<a href=\"https://colab.research.google.com/github/laptionok/SB_Data-analysis/blob/main/4.10_%D0%92%D0%B2%D0%B5%D0%B4%D0%B5%D0%BD%D0%B8%D0%B5%20%D0%B2%20%D1%81%D1%82%D0%B0%D1%82%D0%B8%D1%81%D1%82%D0%B8%D0%BA%D1%83.%20%D0%94%D0%BE%D0%B2%D0%B5%D1%80%D0%B8%D1%82%D0%B5%D0%BB%D1%8C%D0%BD%D1%8B%D0%B5%20%D0%B8%D0%BD%D1%82%D0%B5%D1%80%D0%B2%D0%B0%D0%BB%D1%8B.%20%D0%9F%D1%80%D0%B0%D0%BA%D1%82%D0%B8%D0%BA%D0%B0%203.ipynb\" target=\"_parent\"><img src=\"https://colab.research.google.com/assets/colab-badge.svg\" alt=\"Open In Colab\"/></a>"
      ]
    },
    {
      "cell_type": "markdown",
      "metadata": {
        "id": "8VmeMIEuP-Ru"
      },
      "source": [
        "# Практика по базовой математической статистике для Data scientist"
      ]
    },
    {
      "cell_type": "markdown",
      "metadata": {
        "id": "z-yxRXVtP-Ru"
      },
      "source": [
        "# Практика 3 - построение доверительной оценки"
      ]
    },
    {
      "cell_type": "markdown",
      "metadata": {
        "id": "sf9xOGsoP-Rv"
      },
      "source": [
        "На практическом занятии научимся строить доверительные интервалы и выделять аномалии при помощи python.\n",
        "\n",
        "- Строим доверительный интервал для цен акций из yahoo finance при помощи scipy, numpy, pandas\n",
        "-  Делаем выводы по наличию или отсутствию аномальных событий"
      ]
    },
    {
      "cell_type": "markdown",
      "metadata": {
        "id": "sEbuMJzHP-Rv"
      },
      "source": [
        "Для начала импортируем все полезные библитеки и настроим ноутбук"
      ]
    },
    {
      "cell_type": "code",
      "metadata": {
        "colab": {
          "base_uri": "https://localhost:8080/"
        },
        "id": "r7__tpQRP-Rw",
        "outputId": "890ec9ba-8ccf-4a45-8133-81281f3b1a97"
      },
      "source": [
        "import pandas as pd\n",
        "import numpy as np\n",
        "import matplotlib.pyplot as plt\n",
        "import seaborn as sns\n",
        "import scipy.special as sps\n",
        "from scipy import *\n",
        "import warnings\n",
        "from scipy.stats import kurtosis\n",
        "from scipy.stats import skew\n",
        "from scipy import stats\n",
        "import statsmodels.api as sm\n",
        "\n",
        "%matplotlib inline\n",
        "plt.rcParams[\"figure.figsize\"] = (10.0, 7.0)\n",
        "warnings.filterwarnings(\"ignore\")"
      ],
      "execution_count": null,
      "outputs": [
        {
          "output_type": "stream",
          "text": [
            "/usr/local/lib/python3.7/dist-packages/statsmodels/tools/_testing.py:19: FutureWarning: pandas.util.testing is deprecated. Use the functions in the public API at pandas.testing instead.\n",
            "  import pandas.util.testing as tm\n"
          ],
          "name": "stderr"
        }
      ]
    },
    {
      "cell_type": "markdown",
      "metadata": {
        "id": "v-SVPmyXP-Rw"
      },
      "source": [
        "В этой практике мы поработаем с реальными финансовыми данными.\n",
        "Наверняка каждый из нас хоть раз покупал доллары в надежде немного заработать на разнице курсов покупки и продажи. Но не каждый знает, что помимо валют есть ещё и другие финансовые инструменты - например, акции или облигации, с которыми работают профессиональные инвесторы на специальной площадке для купли и продаже - бирже.\n",
        "\n",
        "Данные о ценах финансовых инструментов называются котировками, и сегодня мы с вами представим себя инвесторами и проанализируем реальные котировки самых настоящих акций.\n",
        "\n",
        "Мы будем доставать их из сервиса yahoo finance, и для этого помощи bash магии установим несколько нужных библиотек."
      ]
    },
    {
      "cell_type": "code",
      "metadata": {
        "colab": {
          "base_uri": "https://localhost:8080/"
        },
        "id": "CftB5QjP40rO",
        "outputId": "90b6dce4-fa07-4f3f-d04f-176e73d968a5"
      },
      "source": [
        "%%bash\n",
        "pip install yfinance\n",
        "\n"
      ],
      "execution_count": null,
      "outputs": [
        {
          "output_type": "stream",
          "text": [
            "Requirement already satisfied: yfinance in /usr/local/lib/python3.7/dist-packages (0.1.63)\n",
            "Requirement already satisfied: pandas>=0.24 in /usr/local/lib/python3.7/dist-packages (from yfinance) (1.1.5)\n",
            "Requirement already satisfied: lxml>=4.5.1 in /usr/local/lib/python3.7/dist-packages (from yfinance) (4.6.3)\n",
            "Requirement already satisfied: numpy>=1.15 in /usr/local/lib/python3.7/dist-packages (from yfinance) (1.19.5)\n",
            "Requirement already satisfied: requests>=2.20 in /usr/local/lib/python3.7/dist-packages (from yfinance) (2.23.0)\n",
            "Requirement already satisfied: multitasking>=0.0.7 in /usr/local/lib/python3.7/dist-packages (from yfinance) (0.0.9)\n",
            "Requirement already satisfied: pytz>=2017.2 in /usr/local/lib/python3.7/dist-packages (from pandas>=0.24->yfinance) (2021.1)\n",
            "Requirement already satisfied: python-dateutil>=2.7.3 in /usr/local/lib/python3.7/dist-packages (from pandas>=0.24->yfinance) (2.8.1)\n",
            "Requirement already satisfied: six>=1.5 in /usr/local/lib/python3.7/dist-packages (from python-dateutil>=2.7.3->pandas>=0.24->yfinance) (1.15.0)\n",
            "Requirement already satisfied: certifi>=2017.4.17 in /usr/local/lib/python3.7/dist-packages (from requests>=2.20->yfinance) (2021.5.30)\n",
            "Requirement already satisfied: idna<3,>=2.5 in /usr/local/lib/python3.7/dist-packages (from requests>=2.20->yfinance) (2.10)\n",
            "Requirement already satisfied: chardet<4,>=3.0.2 in /usr/local/lib/python3.7/dist-packages (from requests>=2.20->yfinance) (3.0.4)\n",
            "Requirement already satisfied: urllib3!=1.25.0,!=1.25.1,<1.26,>=1.21.1 in /usr/local/lib/python3.7/dist-packages (from requests>=2.20->yfinance) (1.24.3)\n"
          ],
          "name": "stdout"
        }
      ]
    },
    {
      "cell_type": "code",
      "metadata": {
        "scrolled": true,
        "colab": {
          "base_uri": "https://localhost:8080/"
        },
        "id": "RTuj6oLLP-Ry",
        "outputId": "9c7f1306-1428-4d9c-fa43-54a59b404d9d"
      },
      "source": [
        "%%bash\n",
        "pip install pandas-datareader"
      ],
      "execution_count": null,
      "outputs": [
        {
          "output_type": "stream",
          "text": [
            "Requirement already satisfied: pandas-datareader in /usr/local/lib/python3.7/dist-packages (0.9.0)\n",
            "Requirement already satisfied: pandas>=0.23 in /usr/local/lib/python3.7/dist-packages (from pandas-datareader) (1.1.5)\n",
            "Requirement already satisfied: lxml in /usr/local/lib/python3.7/dist-packages (from pandas-datareader) (4.6.3)\n",
            "Requirement already satisfied: requests>=2.19.0 in /usr/local/lib/python3.7/dist-packages (from pandas-datareader) (2.23.0)\n",
            "Requirement already satisfied: python-dateutil>=2.7.3 in /usr/local/lib/python3.7/dist-packages (from pandas>=0.23->pandas-datareader) (2.8.1)\n",
            "Requirement already satisfied: pytz>=2017.2 in /usr/local/lib/python3.7/dist-packages (from pandas>=0.23->pandas-datareader) (2021.1)\n",
            "Requirement already satisfied: numpy>=1.15.4 in /usr/local/lib/python3.7/dist-packages (from pandas>=0.23->pandas-datareader) (1.19.5)\n",
            "Requirement already satisfied: six>=1.5 in /usr/local/lib/python3.7/dist-packages (from python-dateutil>=2.7.3->pandas>=0.23->pandas-datareader) (1.15.0)\n",
            "Requirement already satisfied: idna<3,>=2.5 in /usr/local/lib/python3.7/dist-packages (from requests>=2.19.0->pandas-datareader) (2.10)\n",
            "Requirement already satisfied: urllib3!=1.25.0,!=1.25.1,<1.26,>=1.21.1 in /usr/local/lib/python3.7/dist-packages (from requests>=2.19.0->pandas-datareader) (1.24.3)\n",
            "Requirement already satisfied: chardet<4,>=3.0.2 in /usr/local/lib/python3.7/dist-packages (from requests>=2.19.0->pandas-datareader) (3.0.4)\n",
            "Requirement already satisfied: certifi>=2017.4.17 in /usr/local/lib/python3.7/dist-packages (from requests>=2.19.0->pandas-datareader) (2021.5.30)\n"
          ],
          "name": "stdout"
        }
      ]
    },
    {
      "cell_type": "code",
      "metadata": {
        "id": "HNcAbzaBP-Ry"
      },
      "source": [
        "import pandas_datareader as pdr\n",
        "from datetime import datetime\n",
        "import yfinance as yf"
      ],
      "execution_count": null,
      "outputs": []
    },
    {
      "cell_type": "code",
      "metadata": {
        "id": "MkDED-XOP-Ry"
      },
      "source": [
        "# Собираем котировки за интересующий период.\n",
        "start_date = datetime(2018, 1, 1)\n",
        "end_date = datetime(2019, 8, 31)"
      ],
      "execution_count": null,
      "outputs": []
    },
    {
      "cell_type": "code",
      "metadata": {
        "scrolled": true,
        "colab": {
          "base_uri": "https://localhost:8080/"
        },
        "id": "SdZnhpVTP-Rz",
        "outputId": "19884e7a-6804-43fb-f5a7-471cd895b5a0"
      },
      "source": [
        "df = yf.download(\"GOOG\", start=start_date, end=end_date)"
      ],
      "execution_count": null,
      "outputs": [
        {
          "output_type": "stream",
          "text": [
            "\r[*********************100%***********************]  1 of 1 completed\n"
          ],
          "name": "stdout"
        }
      ]
    },
    {
      "cell_type": "code",
      "metadata": {
        "colab": {
          "base_uri": "https://localhost:8080/"
        },
        "id": "jWF-6byjP-Rz",
        "outputId": "c3c2283c-d96c-4828-b785-9a427d5d47b1"
      },
      "source": [
        "df.info()"
      ],
      "execution_count": null,
      "outputs": [
        {
          "output_type": "stream",
          "text": [
            "<class 'pandas.core.frame.DataFrame'>\n",
            "DatetimeIndex: 419 entries, 2018-01-02 to 2019-08-30\n",
            "Data columns (total 6 columns):\n",
            " #   Column     Non-Null Count  Dtype  \n",
            "---  ------     --------------  -----  \n",
            " 0   Open       419 non-null    float64\n",
            " 1   High       419 non-null    float64\n",
            " 2   Low        419 non-null    float64\n",
            " 3   Close      419 non-null    float64\n",
            " 4   Adj Close  419 non-null    float64\n",
            " 5   Volume     419 non-null    int64  \n",
            "dtypes: float64(5), int64(1)\n",
            "memory usage: 22.9 KB\n"
          ],
          "name": "stdout"
        }
      ]
    },
    {
      "cell_type": "code",
      "metadata": {
        "colab": {
          "base_uri": "https://localhost:8080/",
          "height": 235
        },
        "id": "5HDfZRGtP-Rz",
        "outputId": "2665d877-5476-4c2a-a89a-8c4ab2781f44"
      },
      "source": [
        "# Переведем заголовки столбцов в нижний регистр и посмотрим на данные\n",
        "df.columns = map(str.lower, df.columns)\n",
        "df.head()"
      ],
      "execution_count": null,
      "outputs": [
        {
          "output_type": "execute_result",
          "data": {
            "text/html": [
              "<div>\n",
              "<style scoped>\n",
              "    .dataframe tbody tr th:only-of-type {\n",
              "        vertical-align: middle;\n",
              "    }\n",
              "\n",
              "    .dataframe tbody tr th {\n",
              "        vertical-align: top;\n",
              "    }\n",
              "\n",
              "    .dataframe thead th {\n",
              "        text-align: right;\n",
              "    }\n",
              "</style>\n",
              "<table border=\"1\" class=\"dataframe\">\n",
              "  <thead>\n",
              "    <tr style=\"text-align: right;\">\n",
              "      <th></th>\n",
              "      <th>open</th>\n",
              "      <th>high</th>\n",
              "      <th>low</th>\n",
              "      <th>close</th>\n",
              "      <th>adj close</th>\n",
              "      <th>volume</th>\n",
              "    </tr>\n",
              "    <tr>\n",
              "      <th>Date</th>\n",
              "      <th></th>\n",
              "      <th></th>\n",
              "      <th></th>\n",
              "      <th></th>\n",
              "      <th></th>\n",
              "      <th></th>\n",
              "    </tr>\n",
              "  </thead>\n",
              "  <tbody>\n",
              "    <tr>\n",
              "      <th>2018-01-02</th>\n",
              "      <td>1048.339966</td>\n",
              "      <td>1066.939941</td>\n",
              "      <td>1045.229980</td>\n",
              "      <td>1065.000000</td>\n",
              "      <td>1065.000000</td>\n",
              "      <td>1237600</td>\n",
              "    </tr>\n",
              "    <tr>\n",
              "      <th>2018-01-03</th>\n",
              "      <td>1064.310059</td>\n",
              "      <td>1086.290039</td>\n",
              "      <td>1063.209961</td>\n",
              "      <td>1082.479980</td>\n",
              "      <td>1082.479980</td>\n",
              "      <td>1430200</td>\n",
              "    </tr>\n",
              "    <tr>\n",
              "      <th>2018-01-04</th>\n",
              "      <td>1088.000000</td>\n",
              "      <td>1093.569946</td>\n",
              "      <td>1084.001953</td>\n",
              "      <td>1086.400024</td>\n",
              "      <td>1086.400024</td>\n",
              "      <td>1004600</td>\n",
              "    </tr>\n",
              "    <tr>\n",
              "      <th>2018-01-05</th>\n",
              "      <td>1094.000000</td>\n",
              "      <td>1104.250000</td>\n",
              "      <td>1092.000000</td>\n",
              "      <td>1102.229980</td>\n",
              "      <td>1102.229980</td>\n",
              "      <td>1279100</td>\n",
              "    </tr>\n",
              "    <tr>\n",
              "      <th>2018-01-08</th>\n",
              "      <td>1102.229980</td>\n",
              "      <td>1111.270020</td>\n",
              "      <td>1101.619995</td>\n",
              "      <td>1106.939941</td>\n",
              "      <td>1106.939941</td>\n",
              "      <td>1047600</td>\n",
              "    </tr>\n",
              "  </tbody>\n",
              "</table>\n",
              "</div>"
            ],
            "text/plain": [
              "                   open         high  ...    adj close   volume\n",
              "Date                                  ...                      \n",
              "2018-01-02  1048.339966  1066.939941  ...  1065.000000  1237600\n",
              "2018-01-03  1064.310059  1086.290039  ...  1082.479980  1430200\n",
              "2018-01-04  1088.000000  1093.569946  ...  1086.400024  1004600\n",
              "2018-01-05  1094.000000  1104.250000  ...  1102.229980  1279100\n",
              "2018-01-08  1102.229980  1111.270020  ...  1106.939941  1047600\n",
              "\n",
              "[5 rows x 6 columns]"
            ]
          },
          "metadata": {
            "tags": []
          },
          "execution_count": 8
        }
      ]
    },
    {
      "cell_type": "markdown",
      "metadata": {
        "id": "ayI40OzPP-R0"
      },
      "source": [
        "Для изучения выберем разницу между ценой закрытия и ценой открытия."
      ]
    },
    {
      "cell_type": "code",
      "metadata": {
        "id": "olSrtRPqP-R0"
      },
      "source": [
        "# Готовим новую метрику.\n",
        "df[\"diff_price\"] = df.close - df.open"
      ],
      "execution_count": null,
      "outputs": []
    },
    {
      "cell_type": "markdown",
      "metadata": {
        "id": "5nc8B84uP-R0"
      },
      "source": [
        "Для построения доверительного интервала необходимо, чтобы исследумая величина была распределена по Гауссову закону.\n",
        "Поэтому воспользуемся функцией из первой практики для разведочного анализа."
      ]
    },
    {
      "cell_type": "code",
      "metadata": {
        "colab": {
          "base_uri": "https://localhost:8080/",
          "height": 310
        },
        "id": "bHwsCubDP-R0",
        "outputId": "e183814a-1d9f-42e8-cf47-b6c2d73266ba"
      },
      "source": [
        "df.diff_price.plot()\n",
        "plt.title(\"График разницы между ценой закрытия и открытия\")"
      ],
      "execution_count": null,
      "outputs": [
        {
          "output_type": "execute_result",
          "data": {
            "text/plain": [
              "Text(0.5, 1.0, 'График разницы между ценой закрытия и открытия')"
            ]
          },
          "metadata": {
            "tags": []
          },
          "execution_count": 10
        },
        {
          "output_type": "display_data",
          "data": {
            "image/png": "[encoded data removed]",
            "text/plain": [
              "<Figure size 432x288 with 1 Axes>"
            ]
          },
          "metadata": {
            "tags": [],
            "needs_background": "light"
          }
        }
      ]
    },
    {
      "cell_type": "code",
      "metadata": {
        "id": "Oq56qMDmP-R0"
      },
      "source": [
        "def my_basic_research(df=df, column = \"diff_price\"):\n",
        "    print(\"Базовые метрики\")\n",
        "    print(df[column].describe())\n",
        "    print(\"------------------------------------\")\n",
        "\n",
        "    print(\"Самые популярные значения метрики, топ 5\")\n",
        "    print(df[column].value_counts().nlargest(5))\n",
        "    print(\"------------------------------------\")\n",
        "\n",
        "    print(\"Эксцесс \", kurtosis(df[column]))\n",
        "    print(\"Ассиметрия \", skew(df[column]))\n",
        "\n",
        "    sns.distplot(df[column])\n",
        "    plt.title(\"Распределение метрики\")"
      ],
      "execution_count": null,
      "outputs": []
    },
    {
      "cell_type": "code",
      "metadata": {
        "scrolled": false,
        "colab": {
          "base_uri": "https://localhost:8080/",
          "height": 653
        },
        "id": "Gc47AXmBP-R1",
        "outputId": "85e06671-1772-40e2-a03c-c164b6f85141"
      },
      "source": [
        "my_basic_research(column = \"diff_price\")"
      ],
      "execution_count": null,
      "outputs": [
        {
          "output_type": "stream",
          "text": [
            "Базовые метрики\n",
            "count    419.000000\n",
            "mean       0.283327\n",
            "std       15.785419\n",
            "min      -62.389954\n",
            "25%       -7.504944\n",
            "50%       -0.050049\n",
            "75%        9.205017\n",
            "max       53.419922\n",
            "Name: diff_price, dtype: float64\n",
            "------------------------------------\n",
            "Самые популярные значения метрики, топ 5\n",
            " 2.079956    2\n",
            "-4.140015    2\n",
            " 3.479980    2\n",
            "-6.169922    2\n",
            "-7.839966    2\n",
            "Name: diff_price, dtype: int64\n",
            "------------------------------------\n",
            "Эксцесс  1.8273088490466076\n",
            "Ассиметрия  -0.373693259561462\n"
          ],
          "name": "stdout"
        },
        {
          "output_type": "display_data",
          "data": {
            "image/png": "[encoded data removed]",
            "text/plain": [
              "<Figure size 432x288 with 1 Axes>"
            ]
          },
          "metadata": {
            "tags": [],
            "needs_background": "light"
          }
        }
      ]
    },
    {
      "cell_type": "markdown",
      "metadata": {
        "id": "M5iN9FDfP-R1"
      },
      "source": [
        "В целом наше распределение близко к нормальному, несмотря на остроконечный пик и наличие выбросов.\n",
        "Однако для уверенности проверим его при помощи графика QQ plot - https://en.wikipedia.org/wiki/Q%E2%80%93Q_plot\n",
        "\n",
        "График сравнивает квантили выборки и выбранноого распределения - в нашем случае, нормального."
      ]
    },
    {
      "cell_type": "code",
      "metadata": {
        "colab": {
          "base_uri": "https://localhost:8080/",
          "height": 295
        },
        "id": "2wHRgVl-P-R1",
        "outputId": "8aed67c2-c907-4104-a129-b15c84f07c33"
      },
      "source": [
        "sm.qqplot(df.diff_price, fit = True)\n",
        "plt.title(\"QQ plot\")\n",
        "plt.show()"
      ],
      "execution_count": null,
      "outputs": [
        {
          "output_type": "display_data",
          "data": {
            "image/png": "[encoded data removed]",
            "text/plain": [
              "<Figure size 432x288 with 1 Axes>"
            ]
          },
          "metadata": {
            "tags": [],
            "needs_background": "light"
          }
        }
      ]
    },
    {
      "cell_type": "markdown",
      "metadata": {
        "id": "7tVXqg9QP-R1"
      },
      "source": [
        "Кажется, что можно использовать стандартные доверительные интервалы для нормального распределения. Для этого воспользуемся функцией https://docs.scipy.org/doc/scipy/reference/generated/scipy.stats.norm.html"
      ]
    },
    {
      "cell_type": "code",
      "metadata": {
        "id": "aTZcgylVP-R2"
      },
      "source": [
        "def my_norm_confidence(df=df, column = \"diff_price\", alpha = 0.95):\n",
        "    interval = stats.norm.interval(alpha, loc=df[column].mean(), scale=df[column].std())\n",
        "    return interval"
      ],
      "execution_count": null,
      "outputs": []
    },
    {
      "cell_type": "code",
      "metadata": {
        "colab": {
          "base_uri": "https://localhost:8080/"
        },
        "id": "LyD6ONlIP-R2",
        "outputId": "35fa44d0-2b7e-42be-fee3-72203f923942"
      },
      "source": [
        "confidence = my_norm_confidence()\n",
        "print(confidence)"
      ],
      "execution_count": null,
      "outputs": [
        {
          "output_type": "stream",
          "text": [
            "(-30.655527059533046, 31.2221800721934)\n"
          ],
          "name": "stdout"
        }
      ]
    },
    {
      "cell_type": "markdown",
      "metadata": {
        "id": "Ua7Y0Ev-P-R2"
      },
      "source": [
        "При доверительной вероятности 95 % средняя разница между ценой закрытия и открытия не выйдет за этот интервал.\n",
        "Отметим на графике полученный коридор."
      ]
    },
    {
      "cell_type": "code",
      "metadata": {
        "colab": {
          "base_uri": "https://localhost:8080/",
          "height": 310
        },
        "id": "11eb2MblP-R2",
        "outputId": "58fc54b7-421b-4dc5-b147-6eedf354a6f8"
      },
      "source": [
        "df.diff_price.plot()\n",
        "plt.axhline(y=confidence[1], color=\"g\", linestyle=\"-\")\n",
        "plt.axhline(y=confidence[0], color=\"r\", linestyle=\"-\")\n",
        "plt.title(\"Доверительный интервал\")"
      ],
      "execution_count": null,
      "outputs": [
        {
          "output_type": "execute_result",
          "data": {
            "text/plain": [
              "Text(0.5, 1.0, 'Доверительный интервал')"
            ]
          },
          "metadata": {
            "tags": []
          },
          "execution_count": 16
        },
        {
          "output_type": "display_data",
          "data": {
            "image/png": "[encoded data removed]",
            "text/plain": [
              "<Figure size 432x288 with 1 Axes>"
            ]
          },
          "metadata": {
            "tags": [],
            "needs_background": "light"
          }
        }
      ]
    },
    {
      "cell_type": "markdown",
      "metadata": {
        "id": "14iRY-jsP-R2"
      },
      "source": [
        "## Отбор аномалий при помощи доверительного интервала"
      ]
    },
    {
      "cell_type": "markdown",
      "metadata": {
        "id": "KTzAsL4lP-R2"
      },
      "source": [
        "А если нам понадобится отметить аномальные события, выходящие за зеленую границу, то это можно сделать следующим образом"
      ]
    },
    {
      "cell_type": "code",
      "metadata": {
        "id": "YHUOgnFCP-R3"
      },
      "source": [
        "df[\"anomaly_big\"] = np.where(df.diff_price > confidence[1], 1,0)"
      ],
      "execution_count": null,
      "outputs": []
    },
    {
      "cell_type": "markdown",
      "metadata": {
        "id": "ZJMpL_qjP-R3"
      },
      "source": [
        "Теперь они готовы к дальнейшему исследованию."
      ]
    },
    {
      "cell_type": "code",
      "metadata": {
        "colab": {
          "base_uri": "https://localhost:8080/",
          "height": 297
        },
        "id": "m_MCB0zDP-R3",
        "outputId": "00ecefa8-e17e-467f-d7ce-a84aa811bcb1"
      },
      "source": [
        "df[df.anomaly_big == 1].describe()"
      ],
      "execution_count": null,
      "outputs": [
        {
          "output_type": "execute_result",
          "data": {
            "text/html": [
              "<div>\n",
              "<style scoped>\n",
              "    .dataframe tbody tr th:only-of-type {\n",
              "        vertical-align: middle;\n",
              "    }\n",
              "\n",
              "    .dataframe tbody tr th {\n",
              "        vertical-align: top;\n",
              "    }\n",
              "\n",
              "    .dataframe thead th {\n",
              "        text-align: right;\n",
              "    }\n",
              "</style>\n",
              "<table border=\"1\" class=\"dataframe\">\n",
              "  <thead>\n",
              "    <tr style=\"text-align: right;\">\n",
              "      <th></th>\n",
              "      <th>open</th>\n",
              "      <th>high</th>\n",
              "      <th>low</th>\n",
              "      <th>close</th>\n",
              "      <th>adj close</th>\n",
              "      <th>volume</th>\n",
              "      <th>diff_price</th>\n",
              "      <th>anomaly_big</th>\n",
              "    </tr>\n",
              "  </thead>\n",
              "  <tbody>\n",
              "    <tr>\n",
              "      <th>count</th>\n",
              "      <td>10.000000</td>\n",
              "      <td>10.000000</td>\n",
              "      <td>10.000000</td>\n",
              "      <td>10.000000</td>\n",
              "      <td>10.000000</td>\n",
              "      <td>1.000000e+01</td>\n",
              "      <td>10.000000</td>\n",
              "      <td>10.0</td>\n",
              "    </tr>\n",
              "    <tr>\n",
              "      <th>mean</th>\n",
              "      <td>1044.146002</td>\n",
              "      <td>1088.186780</td>\n",
              "      <td>1040.519098</td>\n",
              "      <td>1083.051978</td>\n",
              "      <td>1083.051978</td>\n",
              "      <td>2.577930e+06</td>\n",
              "      <td>38.905975</td>\n",
              "      <td>1.0</td>\n",
              "    </tr>\n",
              "    <tr>\n",
              "      <th>std</th>\n",
              "      <td>49.937315</td>\n",
              "      <td>50.618170</td>\n",
              "      <td>50.943488</td>\n",
              "      <td>49.617563</td>\n",
              "      <td>49.617563</td>\n",
              "      <td>7.385681e+05</td>\n",
              "      <td>8.221770</td>\n",
              "      <td>0.0</td>\n",
              "    </tr>\n",
              "    <tr>\n",
              "      <th>min</th>\n",
              "      <td>989.010010</td>\n",
              "      <td>1028.718018</td>\n",
              "      <td>983.000000</td>\n",
              "      <td>1025.140015</td>\n",
              "      <td>1025.140015</td>\n",
              "      <td>1.719200e+06</td>\n",
              "      <td>31.309937</td>\n",
              "      <td>1.0</td>\n",
              "    </tr>\n",
              "    <tr>\n",
              "      <th>25%</th>\n",
              "      <td>1019.470032</td>\n",
              "      <td>1054.092499</td>\n",
              "      <td>1018.459274</td>\n",
              "      <td>1053.339966</td>\n",
              "      <td>1053.339966</td>\n",
              "      <td>2.142750e+06</td>\n",
              "      <td>32.407516</td>\n",
              "      <td>1.0</td>\n",
              "    </tr>\n",
              "    <tr>\n",
              "      <th>50%</th>\n",
              "      <td>1033.424988</td>\n",
              "      <td>1076.454956</td>\n",
              "      <td>1029.093994</td>\n",
              "      <td>1071.089966</td>\n",
              "      <td>1071.089966</td>\n",
              "      <td>2.424350e+06</td>\n",
              "      <td>35.969971</td>\n",
              "      <td>1.0</td>\n",
              "    </tr>\n",
              "    <tr>\n",
              "      <th>75%</th>\n",
              "      <td>1045.827515</td>\n",
              "      <td>1101.607513</td>\n",
              "      <td>1035.342499</td>\n",
              "      <td>1084.822479</td>\n",
              "      <td>1084.822479</td>\n",
              "      <td>2.698075e+06</td>\n",
              "      <td>44.284973</td>\n",
              "      <td>1.0</td>\n",
              "    </tr>\n",
              "    <tr>\n",
              "      <th>max</th>\n",
              "      <td>1144.449951</td>\n",
              "      <td>1176.189941</td>\n",
              "      <td>1144.449951</td>\n",
              "      <td>1175.760010</td>\n",
              "      <td>1175.760010</td>\n",
              "      <td>4.187600e+06</td>\n",
              "      <td>53.419922</td>\n",
              "      <td>1.0</td>\n",
              "    </tr>\n",
              "  </tbody>\n",
              "</table>\n",
              "</div>"
            ],
            "text/plain": [
              "              open         high  ...  diff_price  anomaly_big\n",
              "count    10.000000    10.000000  ...   10.000000         10.0\n",
              "mean   1044.146002  1088.186780  ...   38.905975          1.0\n",
              "std      49.937315    50.618170  ...    8.221770          0.0\n",
              "min     989.010010  1028.718018  ...   31.309937          1.0\n",
              "25%    1019.470032  1054.092499  ...   32.407516          1.0\n",
              "50%    1033.424988  1076.454956  ...   35.969971          1.0\n",
              "75%    1045.827515  1101.607513  ...   44.284973          1.0\n",
              "max    1144.449951  1176.189941  ...   53.419922          1.0\n",
              "\n",
              "[8 rows x 8 columns]"
            ]
          },
          "metadata": {
            "tags": []
          },
          "execution_count": 18
        }
      ]
    },
    {
      "cell_type": "markdown",
      "metadata": {
        "id": "0YSiLKU3P-R3"
      },
      "source": [
        "# Мини домашка"
      ]
    },
    {
      "cell_type": "markdown",
      "metadata": {
        "id": "UYe_62hYP-R3"
      },
      "source": [
        "Необходимо построить для тех же данных доверительный интервал с доверительной вероятностью 90 %\n",
        "Сколько аномальных событий находится выше верхней доверительной границы?"
      ]
    }
  ]
}